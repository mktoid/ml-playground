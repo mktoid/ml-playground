{
 "cells": [
  {
   "cell_type": "markdown",
   "metadata": {},
   "source": [
    "### mlopen kaggle 3 task "
   ]
  },
  {
   "cell_type": "code",
   "execution_count": 180,
   "metadata": {
    "collapsed": true
   },
   "outputs": [],
   "source": [
    "import pandas as pd\n",
    "import numpy as np"
   ]
  },
  {
   "cell_type": "markdown",
   "metadata": {},
   "source": [
    "# Загрузка данных"
   ]
  },
  {
   "cell_type": "code",
   "execution_count": 181,
   "metadata": {},
   "outputs": [],
   "source": [
    "train = pd.read_csv('Downloads/train.csv.gz')\n",
    "train_checks = pd.read_csv('Downloads/train_checks.csv.gz')"
   ]
  },
  {
   "cell_type": "code",
   "execution_count": 182,
   "metadata": {
    "collapsed": true
   },
   "outputs": [],
   "source": [
    "test = pd.read_csv('Downloads/test.csv.gz')\n",
    "test_checks = pd.read_csv('Downloads/test_checks.csv.gz')"
   ]
  },
  {
   "cell_type": "code",
   "execution_count": 183,
   "metadata": {},
   "outputs": [
    {
     "name": "stdout",
     "output_type": "stream",
     "text": [
      "((13682, 5), (2042, 4))\n",
      "['check_id' 'name' 'category' 'price' 'count']\n",
      "['check_id' 'shop_name' 'datetime' 'sum']\n"
     ]
    }
   ],
   "source": [
    "print(train.shape, train_checks.shape)\n",
    "print(train.columns.values)\n",
    "print(train_checks.columns.values)"
   ]
  },
  {
   "cell_type": "code",
   "execution_count": 184,
   "metadata": {
    "collapsed": true
   },
   "outputs": [],
   "source": [
    "train.fillna('', inplace=True)"
   ]
  },
  {
   "cell_type": "markdown",
   "metadata": {},
   "source": [
    "# Подготовка данных"
   ]
  },
  {
   "cell_type": "code",
   "execution_count": 185,
   "metadata": {},
   "outputs": [],
   "source": [
    "import re\n",
    "#from transliterate import translit ### did'nt have pip at mac - redo at linux\n",
    "#todo - выделять отдельный признак из единиц измерения в name\n",
    "\n",
    "def norm(txt):\n",
    "  txt = txt.decode('utf-8')\n",
    "  txt = txt.lower()\n",
    "#  txt = translit(txt, 'ru', reversed=True)\n",
    "  txt = re.sub('^[\\d\\*\\:\\#]+\\s','',txt)\n",
    "  txt = txt.replace('\"','').replace('`','')\n",
    "  return txt"
   ]
  },
  {
   "cell_type": "code",
   "execution_count": 186,
   "metadata": {},
   "outputs": [
    {
     "data": {
      "text/html": [
       "<div>\n",
       "<style>\n",
       "    .dataframe thead tr:only-child th {\n",
       "        text-align: right;\n",
       "    }\n",
       "\n",
       "    .dataframe thead th {\n",
       "        text-align: left;\n",
       "    }\n",
       "\n",
       "    .dataframe tbody tr th {\n",
       "        vertical-align: top;\n",
       "    }\n",
       "</style>\n",
       "<table border=\"1\" class=\"dataframe\">\n",
       "  <thead>\n",
       "    <tr style=\"text-align: right;\">\n",
       "      <th></th>\n",
       "      <th>check_id</th>\n",
       "      <th>name</th>\n",
       "      <th>category</th>\n",
       "      <th>price</th>\n",
       "      <th>count</th>\n",
       "    </tr>\n",
       "  </thead>\n",
       "  <tbody>\n",
       "    <tr>\n",
       "      <th>3366</th>\n",
       "      <td>903</td>\n",
       "      <td>бизнес ланч 4 за 199: картофель фри мал.</td>\n",
       "      <td>Кафе</td>\n",
       "      <td>30.00</td>\n",
       "      <td>1.00</td>\n",
       "    </tr>\n",
       "    <tr>\n",
       "      <th>6291</th>\n",
       "      <td>1719</td>\n",
       "      <td>хохланд сыр плавленый  фетакса 60 % 200гр</td>\n",
       "      <td>Гастрономия</td>\n",
       "      <td>120.00</td>\n",
       "      <td>1.00</td>\n",
       "    </tr>\n",
       "    <tr>\n",
       "      <th>11637</th>\n",
       "      <td>3346</td>\n",
       "      <td>oreo печ.как/нач.вк.ван/шок456г</td>\n",
       "      <td>Чай и сладкое</td>\n",
       "      <td>171.51</td>\n",
       "      <td>1.00</td>\n",
       "    </tr>\n",
       "    <tr>\n",
       "      <th>11516</th>\n",
       "      <td>3331</td>\n",
       "      <td>яйцо 1 кат.(с 1)/1дес.</td>\n",
       "      <td>Мясо и птица</td>\n",
       "      <td>39.99</td>\n",
       "      <td>1.00</td>\n",
       "    </tr>\n",
       "    <tr>\n",
       "      <th>3096</th>\n",
       "      <td>802</td>\n",
       "      <td>семейные секреты основа для пицц</td>\n",
       "      <td>Гастрономия</td>\n",
       "      <td>49.90</td>\n",
       "      <td>1.00</td>\n",
       "    </tr>\n",
       "    <tr>\n",
       "      <th>6429</th>\n",
       "      <td>1861</td>\n",
       "      <td>бананы кг</td>\n",
       "      <td>Овощи и фрукты</td>\n",
       "      <td>54.00</td>\n",
       "      <td>0.73</td>\n",
       "    </tr>\n",
       "    <tr>\n",
       "      <th>8989</th>\n",
       "      <td>2493</td>\n",
       "      <td>фольга особ.пч.гриль</td>\n",
       "      <td>Для дома</td>\n",
       "      <td>83.00</td>\n",
       "      <td>1.00</td>\n",
       "    </tr>\n",
       "    <tr>\n",
       "      <th>3767</th>\n",
       "      <td>1094</td>\n",
       "      <td>капучино большой</td>\n",
       "      <td>Кафе</td>\n",
       "      <td>99.00</td>\n",
       "      <td>2.00</td>\n",
       "    </tr>\n",
       "    <tr>\n",
       "      <th>2066</th>\n",
       "      <td>398</td>\n",
       "      <td>к.ц.шампиньоны резаные ж/б425мл</td>\n",
       "      <td>Овощи и фрукты</td>\n",
       "      <td>72.00</td>\n",
       "      <td>1.00</td>\n",
       "    </tr>\n",
       "    <tr>\n",
       "      <th>5523</th>\n",
       "      <td>1424</td>\n",
       "      <td>фосфалюгель 16г №20 сусп               4/20уп</td>\n",
       "      <td>Здоровье</td>\n",
       "      <td>67.36</td>\n",
       "      <td>1.00</td>\n",
       "    </tr>\n",
       "    <tr>\n",
       "      <th>7526</th>\n",
       "      <td>2050</td>\n",
       "      <td>изд.х/б мастер пирогов 70г</td>\n",
       "      <td>Хлеб</td>\n",
       "      <td>32.90</td>\n",
       "      <td>1.00</td>\n",
       "    </tr>\n",
       "    <tr>\n",
       "      <th>8914</th>\n",
       "      <td>2459</td>\n",
       "      <td>салат в горшочке 1упаковка</td>\n",
       "      <td>Овощи и фрукты</td>\n",
       "      <td>59.13</td>\n",
       "      <td>1.00</td>\n",
       "    </tr>\n",
       "    <tr>\n",
       "      <th>13423</th>\n",
       "      <td>3861</td>\n",
       "      <td>дорож игра голод бег</td>\n",
       "      <td>Дети</td>\n",
       "      <td>503.28</td>\n",
       "      <td>1.00</td>\n",
       "    </tr>\n",
       "    <tr>\n",
       "      <th>5840</th>\n",
       "      <td>1599</td>\n",
       "      <td>масло сл.брест-лит</td>\n",
       "      <td>Молочка</td>\n",
       "      <td>102.25</td>\n",
       "      <td>1.00</td>\n",
       "    </tr>\n",
       "    <tr>\n",
       "      <th>5095</th>\n",
       "      <td>1350</td>\n",
       "      <td>кофе (станд.)</td>\n",
       "      <td>Кафе</td>\n",
       "      <td>85.00</td>\n",
       "      <td>1.00</td>\n",
       "    </tr>\n",
       "  </tbody>\n",
       "</table>\n",
       "</div>"
      ],
      "text/plain": [
       "       check_id                                           name  \\\n",
       "3366        903       бизнес ланч 4 за 199: картофель фри мал.   \n",
       "6291       1719      хохланд сыр плавленый  фетакса 60 % 200гр   \n",
       "11637      3346                oreo печ.как/нач.вк.ван/шок456г   \n",
       "11516      3331                         яйцо 1 кат.(с 1)/1дес.   \n",
       "3096        802               семейные секреты основа для пицц   \n",
       "6429       1861                                      бананы кг   \n",
       "8989       2493                           фольга особ.пч.гриль   \n",
       "3767       1094                               капучино большой   \n",
       "2066        398                к.ц.шампиньоны резаные ж/б425мл   \n",
       "5523       1424  фосфалюгель 16г №20 сусп               4/20уп   \n",
       "7526       2050                     изд.х/б мастер пирогов 70г   \n",
       "8914       2459                     салат в горшочке 1упаковка   \n",
       "13423      3861                           дорож игра голод бег   \n",
       "5840       1599                             масло сл.брест-лит   \n",
       "5095       1350                                  кофе (станд.)   \n",
       "\n",
       "             category   price  count  \n",
       "3366             Кафе   30.00   1.00  \n",
       "6291      Гастрономия  120.00   1.00  \n",
       "11637   Чай и сладкое  171.51   1.00  \n",
       "11516    Мясо и птица   39.99   1.00  \n",
       "3096      Гастрономия   49.90   1.00  \n",
       "6429   Овощи и фрукты   54.00   0.73  \n",
       "8989         Для дома   83.00   1.00  \n",
       "3767             Кафе   99.00   2.00  \n",
       "2066   Овощи и фрукты   72.00   1.00  \n",
       "5523         Здоровье   67.36   1.00  \n",
       "7526             Хлеб   32.90   1.00  \n",
       "8914   Овощи и фрукты   59.13   1.00  \n",
       "13423            Дети  503.28   1.00  \n",
       "5840          Молочка  102.25   1.00  \n",
       "5095             Кафе   85.00   1.00  "
      ]
     },
     "execution_count": 186,
     "metadata": {},
     "output_type": "execute_result"
    }
   ],
   "source": [
    "train['name'] = train['name'].apply(norm)\n",
    "test['name'] = test['name'].apply(norm)\n",
    "\n",
    "train.sample(15)"
   ]
  },
  {
   "cell_type": "code",
   "execution_count": 187,
   "metadata": {
    "collapsed": true
   },
   "outputs": [],
   "source": [
    "from sklearn.feature_extraction.text import TfidfVectorizer, CountVectorizer\n",
    "\n",
    "vectorizer1 = TfidfVectorizer(max_features=50000, analyzer='char', ngram_range=(1,7))\n",
    "vectorizer2 = TfidfVectorizer(max_features=12000)"
   ]
  },
  {
   "cell_type": "code",
   "execution_count": 188,
   "metadata": {},
   "outputs": [],
   "source": [
    "X1 = vectorizer1.fit_transform(train.name)\n",
    "X2 = vectorizer2.fit_transform(train.name)"
   ]
  },
  {
   "cell_type": "code",
   "execution_count": 189,
   "metadata": {},
   "outputs": [
    {
     "data": {
      "text/plain": [
       "(13682, 62000)"
      ]
     },
     "execution_count": 189,
     "metadata": {},
     "output_type": "execute_result"
    }
   ],
   "source": [
    "import scipy\n",
    "X = scipy.sparse.hstack([X1, X2])\n",
    "X.shape"
   ]
  },
  {
   "cell_type": "code",
   "execution_count": 190,
   "metadata": {
    "collapsed": true
   },
   "outputs": [],
   "source": [
    "from sklearn.preprocessing import LabelEncoder\n",
    "\n",
    "labeler = LabelEncoder()"
   ]
  },
  {
   "cell_type": "code",
   "execution_count": 191,
   "metadata": {
    "collapsed": true
   },
   "outputs": [],
   "source": [
    "y = labeler.fit_transform(train.category)"
   ]
  },
  {
   "cell_type": "markdown",
   "metadata": {},
   "source": [
    "# Валидация"
   ]
  },
  {
   "cell_type": "code",
   "execution_count": 192,
   "metadata": {},
   "outputs": [
    {
     "name": "stdout",
     "output_type": "stream",
     "text": [
      "(16, 'newton-cg', '0.416 +- 0.0227')\n"
     ]
    }
   ],
   "source": [
    "from sklearn.linear_model import LogisticRegression\n",
    "from sklearn.model_selection import cross_val_score\n",
    "from sklearn.model_selection import GroupShuffleSplit\n",
    "\n",
    "for c in [16]:\n",
    "    for solver in ['newton-cg']:\n",
    "        gkf = list(GroupShuffleSplit(n_splits=5, random_state=0).split(X, y, train.check_id.values))\n",
    "        score = cross_val_score(LogisticRegression(C=c, solver=solver), X, y, scoring='neg_log_loss', cv = gkf, n_jobs = -1)\n",
    "        print(c, solver, \"%.3f +- %.4f\" % (-np.mean(score), np.std(score)))"
   ]
  },
  {
   "cell_type": "markdown",
   "metadata": {},
   "source": [
    "# Подготовка сабмита"
   ]
  },
  {
   "cell_type": "code",
   "execution_count": 193,
   "metadata": {},
   "outputs": [
    {
     "data": {
      "text/plain": [
       "LogisticRegression(C=16, class_weight=None, dual=False, fit_intercept=True,\n",
       "          intercept_scaling=1, max_iter=100, multi_class='ovr', n_jobs=1,\n",
       "          penalty='l2', random_state=None, solver='newton-cg', tol=0.0001,\n",
       "          verbose=0, warm_start=False)"
      ]
     },
     "execution_count": 193,
     "metadata": {},
     "output_type": "execute_result"
    }
   ],
   "source": [
    "model = LogisticRegression(C=16, solver='newton-cg') # из поперебранного в разделе Валидация\n",
    "model.fit(X, y)"
   ]
  },
  {
   "cell_type": "code",
   "execution_count": 194,
   "metadata": {},
   "outputs": [
    {
     "data": {
      "text/plain": [
       "((3000, 50000), (3000, 12000))"
      ]
     },
     "execution_count": 194,
     "metadata": {},
     "output_type": "execute_result"
    }
   ],
   "source": [
    "X_test1 = vectorizer1.transform(test.name)\n",
    "X_test2 = vectorizer2.transform(test.name)\n",
    "\n",
    "X_test1.shape, X_test2.shape"
   ]
  },
  {
   "cell_type": "code",
   "execution_count": 196,
   "metadata": {},
   "outputs": [
    {
     "data": {
      "text/plain": [
       "(3000, 62000)"
      ]
     },
     "execution_count": 196,
     "metadata": {},
     "output_type": "execute_result"
    }
   ],
   "source": [
    "X_test = scipy.sparse.hstack([X_test1, X_test2])\n",
    "X_test.shape"
   ]
  },
  {
   "cell_type": "code",
   "execution_count": 197,
   "metadata": {},
   "outputs": [],
   "source": [
    "p_test = model.predict_proba(X_test)"
   ]
  },
  {
   "cell_type": "code",
   "execution_count": 198,
   "metadata": {
    "collapsed": true
   },
   "outputs": [],
   "source": [
    "test = test[['id']]"
   ]
  },
  {
   "cell_type": "code",
   "execution_count": 199,
   "metadata": {},
   "outputs": [
    {
     "name": "stderr",
     "output_type": "stream",
     "text": [
      "/Users/administrator/anaconda2/lib/python2.7/site-packages/ipykernel_launcher.py:2: SettingWithCopyWarning: \n",
      "A value is trying to be set on a copy of a slice from a DataFrame.\n",
      "Try using .loc[row_indexer,col_indexer] = value instead\n",
      "\n",
      "See the caveats in the documentation: http://pandas.pydata.org/pandas-docs/stable/indexing.html#indexing-view-versus-copy\n",
      "  \n"
     ]
    }
   ],
   "source": [
    "for i, c in enumerate(labeler.classes_):\n",
    "    test[c] = map(lambda x: '%.3f' % x, p_test[:, i])"
   ]
  },
  {
   "cell_type": "code",
   "execution_count": 200,
   "metadata": {
    "collapsed": true
   },
   "outputs": [],
   "source": [
    "test.to_csv('base_solution.csv.gz', compression='gzip', index = False)"
   ]
  },
  {
   "cell_type": "code",
   "execution_count": null,
   "metadata": {
    "collapsed": true
   },
   "outputs": [],
   "source": []
  }
 ],
 "metadata": {
  "kernelspec": {
   "display_name": "Python 2",
   "language": "python",
   "name": "python2"
  },
  "language_info": {
   "codemirror_mode": {
    "name": "ipython",
    "version": 2
   },
   "file_extension": ".py",
   "mimetype": "text/x-python",
   "name": "python",
   "nbconvert_exporter": "python",
   "pygments_lexer": "ipython2",
   "version": "2.7.14"
  }
 },
 "nbformat": 4,
 "nbformat_minor": 2
}

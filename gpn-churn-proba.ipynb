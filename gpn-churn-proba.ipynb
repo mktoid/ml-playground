{
 "cells": [
  {
   "cell_type": "markdown",
   "metadata": {},
   "source": [
    "### Хакатон AI.Hack СПб. Churn Detection\n",
    "### Газпром Нефть\n",
    "\n",
    "https://www.kaggle.com/c/ai-hackathon-2018-spb-gpn\n",
    "\n",
    "Количество колонок трейна и теста не отличается, пробуем посмотрть на тесте, если связь churn с тем, что нет последнего месяца по клиенту в датасете"
   ]
  },
  {
   "cell_type": "code",
   "execution_count": 10,
   "metadata": {
    "collapsed": true
   },
   "outputs": [],
   "source": [
    "import pandas as pd\n",
    "import numpy as np"
   ]
  },
  {
   "cell_type": "code",
   "execution_count": 11,
   "metadata": {
    "collapsed": true
   },
   "outputs": [],
   "source": [
    "test = pd.read_csv('datasets/gpn/test_data.csv', low_memory=False)\n",
    "sample_submission = pd.read_csv('datasets/gpn/sample_submission.csv', low_memory=False)"
   ]
  },
  {
   "cell_type": "code",
   "execution_count": 12,
   "metadata": {},
   "outputs": [
    {
     "data": {
      "text/html": [
       "<div>\n",
       "<style>\n",
       "    .dataframe thead tr:only-child th {\n",
       "        text-align: right;\n",
       "    }\n",
       "\n",
       "    .dataframe thead th {\n",
       "        text-align: left;\n",
       "    }\n",
       "\n",
       "    .dataframe tbody tr th {\n",
       "        vertical-align: top;\n",
       "    }\n",
       "</style>\n",
       "<table border=\"1\" class=\"dataframe\">\n",
       "  <thead>\n",
       "    <tr style=\"text-align: right;\">\n",
       "      <th></th>\n",
       "      <th>Unnamed: 0</th>\n",
       "      <th>time</th>\n",
       "      <th>date</th>\n",
       "      <th>v_l</th>\n",
       "      <th>q</th>\n",
       "      <th>n_tr</th>\n",
       "      <th>sum_b</th>\n",
       "      <th>code_azs</th>\n",
       "      <th>id</th>\n",
       "      <th>first_prch</th>\n",
       "      <th>location</th>\n",
       "      <th>region</th>\n",
       "      <th>code</th>\n",
       "      <th>code1</th>\n",
       "      <th>percent</th>\n",
       "      <th>type</th>\n",
       "    </tr>\n",
       "  </thead>\n",
       "  <tbody>\n",
       "    <tr>\n",
       "      <th>4113794</th>\n",
       "      <td>4113794</td>\n",
       "      <td>NaN</td>\n",
       "      <td>2016-12-30</td>\n",
       "      <td>18.18</td>\n",
       "      <td>0</td>\n",
       "      <td>2016</td>\n",
       "      <td>661.82</td>\n",
       "      <td>1574.0</td>\n",
       "      <td>21-8AH-17929</td>\n",
       "      <td>28.01.16 11:11:45</td>\n",
       "      <td>8.0</td>\n",
       "      <td>455.0</td>\n",
       "      <td>01010131</td>\n",
       "      <td>128.0</td>\n",
       "      <td>0.00</td>\n",
       "      <td>5</td>\n",
       "    </tr>\n",
       "    <tr>\n",
       "      <th>1751686</th>\n",
       "      <td>1751686</td>\n",
       "      <td>19:15:54</td>\n",
       "      <td>2016-03-10</td>\n",
       "      <td>22.51</td>\n",
       "      <td>0</td>\n",
       "      <td>2016</td>\n",
       "      <td>713.68</td>\n",
       "      <td>14118.0</td>\n",
       "      <td>21-8AE-2226</td>\n",
       "      <td>19.01.16 13:20:04</td>\n",
       "      <td>7.0</td>\n",
       "      <td>456.0</td>\n",
       "      <td>01010121</td>\n",
       "      <td>126.0</td>\n",
       "      <td>21.41</td>\n",
       "      <td>7</td>\n",
       "    </tr>\n",
       "    <tr>\n",
       "      <th>1786617</th>\n",
       "      <td>1786617</td>\n",
       "      <td>NaN</td>\n",
       "      <td>2017-02-16</td>\n",
       "      <td>17.34</td>\n",
       "      <td>0</td>\n",
       "      <td>2017</td>\n",
       "      <td>745.46</td>\n",
       "      <td>13987.0</td>\n",
       "      <td>21-8B2-6395</td>\n",
       "      <td>11.12.16 21:17:33</td>\n",
       "      <td>7.0</td>\n",
       "      <td>455.5</td>\n",
       "      <td>1010142</td>\n",
       "      <td>133.0</td>\n",
       "      <td>0.00</td>\n",
       "      <td>13</td>\n",
       "    </tr>\n",
       "  </tbody>\n",
       "</table>\n",
       "</div>"
      ],
      "text/plain": [
       "         Unnamed: 0      time        date    v_l  q  n_tr   sum_b  code_azs  \\\n",
       "4113794     4113794       NaN  2016-12-30  18.18  0  2016  661.82    1574.0   \n",
       "1751686     1751686  19:15:54  2016-03-10  22.51  0  2016  713.68   14118.0   \n",
       "1786617     1786617       NaN  2017-02-16  17.34  0  2017  745.46   13987.0   \n",
       "\n",
       "                   id         first_prch  location  region      code  code1  \\\n",
       "4113794  21-8AH-17929  28.01.16 11:11:45       8.0   455.0  01010131  128.0   \n",
       "1751686   21-8AE-2226  19.01.16 13:20:04       7.0   456.0  01010121  126.0   \n",
       "1786617   21-8B2-6395  11.12.16 21:17:33       7.0   455.5   1010142  133.0   \n",
       "\n",
       "         percent  type  \n",
       "4113794     0.00     5  \n",
       "1751686    21.41     7  \n",
       "1786617     0.00    13  "
      ]
     },
     "execution_count": 12,
     "metadata": {},
     "output_type": "execute_result"
    }
   ],
   "source": [
    "test.sample(3)"
   ]
  },
  {
   "cell_type": "code",
   "execution_count": 13,
   "metadata": {},
   "outputs": [
    {
     "name": "stdout",
     "output_type": "stream",
     "text": [
      "<class 'pandas.core.frame.DataFrame'>\n",
      "RangeIndex: 31122 entries, 0 to 31121\n",
      "Data columns (total 2 columns):\n",
      "id       31122 non-null object\n",
      "proba    31122 non-null float64\n",
      "dtypes: float64(1), object(1)\n",
      "memory usage: 486.4+ KB\n"
     ]
    }
   ],
   "source": [
    "sample_submission.info()"
   ]
  },
  {
   "cell_type": "code",
   "execution_count": 14,
   "metadata": {},
   "outputs": [
    {
     "data": {
      "text/plain": [
       "(3701008, 16)"
      ]
     },
     "execution_count": 14,
     "metadata": {},
     "output_type": "execute_result"
    }
   ],
   "source": [
    "test = test[test.v_l > 0] # оставляем только тех, кто платил за топливо\n",
    "test.shape"
   ]
  },
  {
   "cell_type": "code",
   "execution_count": 15,
   "metadata": {
    "collapsed": true
   },
   "outputs": [],
   "source": [
    "df = test[['date','id']]"
   ]
  },
  {
   "cell_type": "code",
   "execution_count": 16,
   "metadata": {
    "collapsed": true
   },
   "outputs": [],
   "source": [
    "res = df.groupby('id').max()"
   ]
  },
  {
   "cell_type": "markdown",
   "metadata": {},
   "source": [
    "В декабре было совсем пусто, попробуем считать как churn не имеющих транзакций в ноябре"
   ]
  },
  {
   "cell_type": "code",
   "execution_count": 17,
   "metadata": {
    "collapsed": true
   },
   "outputs": [],
   "source": [
    "res['proba'] = res['date'].apply(lambda x: 1 if str(x) <= '2017-10-31' else 0)"
   ]
  },
  {
   "cell_type": "code",
   "execution_count": 18,
   "metadata": {},
   "outputs": [
    {
     "data": {
      "text/plain": [
       "((31109, 2), (31122, 2))"
      ]
     },
     "execution_count": 18,
     "metadata": {},
     "output_type": "execute_result"
    }
   ],
   "source": [
    "res.shape, sample_submission.shape"
   ]
  },
  {
   "cell_type": "code",
   "execution_count": 19,
   "metadata": {
    "collapsed": true
   },
   "outputs": [],
   "source": [
    "def id_to_proba(id):\n",
    "    try:\n",
    "        return res[res.index == str(id)]['proba'][0]\n",
    "    except:\n",
    "        return 1"
   ]
  },
  {
   "cell_type": "code",
   "execution_count": 20,
   "metadata": {},
   "outputs": [
    {
     "data": {
      "text/html": [
       "<div>\n",
       "<style>\n",
       "    .dataframe thead tr:only-child th {\n",
       "        text-align: right;\n",
       "    }\n",
       "\n",
       "    .dataframe thead th {\n",
       "        text-align: left;\n",
       "    }\n",
       "\n",
       "    .dataframe tbody tr th {\n",
       "        vertical-align: top;\n",
       "    }\n",
       "</style>\n",
       "<table border=\"1\" class=\"dataframe\">\n",
       "  <thead>\n",
       "    <tr style=\"text-align: right;\">\n",
       "      <th></th>\n",
       "      <th>id</th>\n",
       "      <th>proba</th>\n",
       "    </tr>\n",
       "  </thead>\n",
       "  <tbody>\n",
       "    <tr>\n",
       "      <th>3437</th>\n",
       "      <td>21-8AC-11911</td>\n",
       "      <td>0.5</td>\n",
       "    </tr>\n",
       "    <tr>\n",
       "      <th>4998</th>\n",
       "      <td>21-8AD-4376</td>\n",
       "      <td>0.5</td>\n",
       "    </tr>\n",
       "    <tr>\n",
       "      <th>16893</th>\n",
       "      <td>21-19DS-85</td>\n",
       "      <td>0.5</td>\n",
       "    </tr>\n",
       "  </tbody>\n",
       "</table>\n",
       "</div>"
      ],
      "text/plain": [
       "                 id  proba\n",
       "3437   21-8AC-11911    0.5\n",
       "4998    21-8AD-4376    0.5\n",
       "16893    21-19DS-85    0.5"
      ]
     },
     "execution_count": 20,
     "metadata": {},
     "output_type": "execute_result"
    }
   ],
   "source": [
    "submission = sample_submission\n",
    "submission.sample(3)"
   ]
  },
  {
   "cell_type": "code",
   "execution_count": 21,
   "metadata": {},
   "outputs": [
    {
     "name": "stdout",
     "output_type": "stream",
     "text": [
      "CPU times: user 2min 18s, sys: 551 ms, total: 2min 19s\n",
      "Wall time: 2min 19s\n"
     ]
    }
   ],
   "source": [
    "%%time\n",
    "submission['proba'] = submission['id'].apply(id_to_proba)"
   ]
  },
  {
   "cell_type": "code",
   "execution_count": 22,
   "metadata": {},
   "outputs": [
    {
     "data": {
      "text/html": [
       "<div>\n",
       "<style>\n",
       "    .dataframe thead tr:only-child th {\n",
       "        text-align: right;\n",
       "    }\n",
       "\n",
       "    .dataframe thead th {\n",
       "        text-align: left;\n",
       "    }\n",
       "\n",
       "    .dataframe tbody tr th {\n",
       "        vertical-align: top;\n",
       "    }\n",
       "</style>\n",
       "<table border=\"1\" class=\"dataframe\">\n",
       "  <thead>\n",
       "    <tr style=\"text-align: right;\">\n",
       "      <th></th>\n",
       "      <th>id</th>\n",
       "      <th>proba</th>\n",
       "    </tr>\n",
       "  </thead>\n",
       "  <tbody>\n",
       "    <tr>\n",
       "      <th>821</th>\n",
       "      <td>21-1886-1971</td>\n",
       "      <td>0</td>\n",
       "    </tr>\n",
       "    <tr>\n",
       "      <th>24904</th>\n",
       "      <td>21-8AH-17483</td>\n",
       "      <td>1</td>\n",
       "    </tr>\n",
       "    <tr>\n",
       "      <th>27452</th>\n",
       "      <td>21-8AN-6187</td>\n",
       "      <td>1</td>\n",
       "    </tr>\n",
       "  </tbody>\n",
       "</table>\n",
       "</div>"
      ],
      "text/plain": [
       "                 id  proba\n",
       "821    21-1886-1971      0\n",
       "24904  21-8AH-17483      1\n",
       "27452   21-8AN-6187      1"
      ]
     },
     "execution_count": 22,
     "metadata": {},
     "output_type": "execute_result"
    }
   ],
   "source": [
    "submission.sample(3)"
   ]
  },
  {
   "cell_type": "code",
   "execution_count": 23,
   "metadata": {
    "collapsed": true
   },
   "outputs": [],
   "source": [
    "submission.to_csv('gpn-sub.csv', index=False)"
   ]
  }
 ],
 "metadata": {
  "kernelspec": {
   "display_name": "Python 3",
   "language": "python",
   "name": "python3"
  },
  "language_info": {
   "codemirror_mode": {
    "name": "ipython",
    "version": 3
   },
   "file_extension": ".py",
   "mimetype": "text/x-python",
   "name": "python",
   "nbconvert_exporter": "python",
   "pygments_lexer": "ipython3",
   "version": "3.6.3"
  }
 },
 "nbformat": 4,
 "nbformat_minor": 2
}
